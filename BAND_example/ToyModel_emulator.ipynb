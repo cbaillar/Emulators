{
 "cells": [
  {
   "cell_type": "markdown",
   "metadata": {},
   "source": [
    "### Load Data"
   ]
  },
  {
   "cell_type": "code",
   "execution_count": null,
   "metadata": {},
   "outputs": [],
   "source": [
    "import os\n",
    "import numpy as np\n",
    "import subprocess\n",
    "import matplotlib.pyplot as plt\n",
    "from surmise.emulation import emulator\n",
    "import src.plots as plots\n",
    "import src.Smooth as Smooth\n",
    "import src.design_points as design_points   \n",
    "import shutil\n",
    "import bilby\n",
    "\n",
    "os.environ['Smooth_PATH'] = '/Users/christalmartin/BAND_fellowship/BAND_example/bandframework/software/SmoothEmulator/'\n",
    "smooth_path = os.environ['Smooth_PATH']\n",
    "\n",
    "if not os.path.exists(smooth_path):\n",
    "    print(\"SmoothEmulator not found. Installing...\")\n",
    "    Smooth.install_smooth_emulator(smooth_path)\n",
    "else:\n",
    "    print(f\"SmoothEmulator already installed at {smooth_path}. Using it.\")\n",
    "\n",
    "os.environ['Work_PATH'] = os.getcwd()\n",
    "work_path = os.environ['Work_PATH']"
   ]
  },
  {
   "cell_type": "markdown",
   "metadata": {},
   "source": [
    "## Model\n",
    "\n",
    "$R_{AA}(p_T, s_{NN})_{A,B,C,D,E} = \\frac{1}{2\\pi} \\left(A + B e^{-0.5(p_T - C)^2} + \\ln\\left( Dp_T + (\\text{cent}*s_{NN})^E \\right)\\right)$ \n",
    "\n",
    "for $\\text{cent} = 0.05$ for central collisions "
   ]
  },
  {
   "cell_type": "code",
   "execution_count": 2,
   "metadata": {
    "tags": [
     "parameters"
    ]
   },
   "outputs": [],
   "source": [
    "seed = 0    #random seed for latin hypercube sampling\n",
    "dmax = False #turn detmax on or off\n",
    "train_size = 60\n",
    "validation_size = 30\n",
    "\n",
    "# for plotting detmax results\n",
    "num_seed = 5 #number of random seeds to use\n",
    "train_range = [40, 50, 60, 70, 80, 90, 100] #training points to use\n",
    "\n",
    "clear = True #clear out the old files\n",
    "skip_cell = False"
   ]
  },
  {
   "cell_type": "code",
   "execution_count": 3,
   "metadata": {},
   "outputs": [],
   "source": [
    "#parameter space for theta = [A, B, C, ...]\n",
    "priors = {\n",
    "    'A': bilby.core.prior.Uniform(minimum=0.5, maximum=3.0), \n",
    "    'B': bilby.core.prior.Uniform(minimum=1.0, maximum=1.8), \n",
    "    'C': bilby.core.prior.Uniform(minimum=-1.6, maximum=0.0),\n",
    "    'D': bilby.core.prior.Uniform(minimum=0.0, maximum=0.2),\n",
    "    'E': bilby.core.prior.Uniform(minimum=-1.5, maximum=0.0)\n",
    "}\n",
    "\n",
    "#####################\n",
    "\n",
    "#ToyModel for R_AA\n",
    "def R_AA(pT, params, cent, sNN):\n",
    "    A, B, C, D, E = params  \n",
    "    X = D * pT + (cent * sNN)**E\n",
    "    if np.all(X > 0):\n",
    "            return 1 / (2 * np.pi) * (A + B * np.exp(-((pT - C) ** 2) / 2) + np.log(X))\n",
    "    else:\n",
    "        print('Warning: Negative R_AA value')\n",
    "        return -np.inf\n",
    "\n",
    "######################\n",
    "pT = {}\n",
    "\n",
    "pT['AuAu200'] = [9.75, 11.0, 13.0, 15.0, 17.0, 19.0]\n",
    "pT['PbPb2760' ] = [10.8, 12.3, 14.1, 16.2, 18.6, 21.4, 24.4, 28.1, 33.9, 42.6, 53.6, 67.5, 85.]\n",
    "pT['PbPb5020'] = [13.2, 16.8, 21.6, 26.4, 32., 38.4, 44.8, 54.4, 67.2, 80., 95.]\n",
    "\n",
    "parameter_names = list(priors.keys())\n",
    "dim = len(parameter_names) \n",
    "train_points, validation_points = design_points.load_data(train_size, validation_size, priors, seed, dmax)\n"
   ]
  },
  {
   "cell_type": "code",
   "execution_count": null,
   "metadata": {},
   "outputs": [],
   "source": [
    "if clear:\n",
    "    directories = ['smooth_emulators', 'surmise']\n",
    "\n",
    "    for directory in directories:\n",
    "        if os.path.exists(directory):\n",
    "            for filename in os.listdir(directory):\n",
    "                file_path = os.path.join(directory, filename)\n",
    "                if os.path.isdir(file_path):\n",
    "                    shutil.rmtree(file_path)  # Remove the directory and its contents\n",
    "                    print(f\"Deleted directory: {file_path}\")\n",
    "        else:\n",
    "            print(f\"Directory {directory} does not exist.\")"
   ]
  },
  {
   "cell_type": "markdown",
   "metadata": {},
   "source": [
    "## Calibrating with inital parameters choosen"
   ]
  },
  {
   "cell_type": "code",
   "execution_count": null,
   "metadata": {},
   "outputs": [],
   "source": [
    "RAA = {}\n",
    "y_train_results = {}\n",
    "y_val_results = {}\n",
    "total_low = {}\n",
    "total_high = {}\n",
    "\n",
    "fig, axes = plt.subplots(1, 3, figsize=(35, 10), sharey=True)\n",
    "\n",
    "for i, system in enumerate(['AuAu200', 'PbPb2760', 'PbPb5020']):\n",
    "\n",
    "    ax = axes[i] \n",
    "    experiment = 'PHENIX' if system == 'AuAu200' else 'ATLAS' if system == 'PbPb2760' else 'CMS' \n",
    "    coll = 'AuAu' if system == 'AuAu200' else 'PbPb' if system == 'PbPb2760' else 'PbPb'\n",
    "    energy = '200 GeV' if system == 'AuAu200' else '2.76 TeV' if system == 'PbPb2760' else '5.02 TeV'\n",
    "    \n",
    "    cent_val = 0.05 \n",
    "    sNN = 200 if 'AuAu' in system else 2760 if 'PbPb2760' in system else 5020\n",
    "    pT[system] = np.array(pT[system])\n",
    "\n",
    "    y_train = np.array([R_AA(pT[system], train_points[j, :], cent_val, sNN) for j in range(train_points.shape[0])])\n",
    "    y_val = np.array([R_AA(pT[system], validation_points[j, :], cent_val, sNN) for j in range(validation_points.shape[0])])\n",
    "\n",
    "    y_train_results[system] = y_train\n",
    "    y_val_results[system] = y_val\n",
    "\n",
    "    ax.set_title(f'{coll} {energy}', fontsize=40)\n",
    "    ax.set_ylim(0, 1)\n",
    "    ax.yaxis.set_tick_params(labelsize=20)\n",
    "    ax.xaxis.set_tick_params(labelsize=20)\n",
    "\n",
    "    if i == 0:  # Set ylabel only for the first subplot\n",
    "        ax.set_ylabel('$R_{AA}$', fontsize=40)\n",
    "        label = f'{experiment}: $0-10\\\\%$ Centrality'\n",
    "    elif i == 1:\n",
    "        ax.set_xlabel('$p_T$ (GeV/c)', fontsize=40)\n",
    "        label = f'{experiment}: $0-5\\\\%$ Centrality'\n",
    "    else:\n",
    "        label = f'{experiment}: $0-10\\\\%$ Centrality'\n",
    "   \n",
    "    ax.plot(pT[system].reshape(-1,1), y_train_results[system].T, color='blue', markersize=10, label=label)\n",
    "\n",
    "plt.tight_layout(rect=[0, 0, 0.9, 0.95])\n"
   ]
  },
  {
   "cell_type": "code",
   "execution_count": null,
   "metadata": {
    "tags": [
     "skip"
    ]
   },
   "outputs": [],
   "source": [
    "plots.plot_design_points(train_points, validation_points)"
   ]
  },
  {
   "cell_type": "markdown",
   "metadata": {},
   "source": [
    "## Run Smooth Emulator "
   ]
  },
  {
   "cell_type": "code",
   "execution_count": 7,
   "metadata": {},
   "outputs": [],
   "source": [
    "Smooth_train_mean = {}\n",
    "Smooth_train_errors = {}\n",
    "Smooth_val_mean = {}\n",
    "Smooth_val_errors = {}\n",
    "\n",
    "Smooth_train_mean, Smooth_train_errors, Smooth_val_mean, Smooth_val_errors = [{} for _ in range(4)]\n",
    "\n",
    "for system in ['AuAu200', 'PbPb2760', 'PbPb5020']:\n",
    "    Smooth.fit(x=pT[system], theta=train_points, f=y_train_results[system], priors=priors, label=system, order=5, Lambda=0.8)\n",
    "    Smooth_train_mean[system], Smooth_train_errors[system] = Smooth.predict(train_points, system)\n",
    "    Smooth_val_mean[system], Smooth_val_errors[system] = Smooth.predict(validation_points, system)\n",
    "    os.chdir(work_path)   \n"
   ]
  },
  {
   "cell_type": "markdown",
   "metadata": {},
   "source": [
    "## Run Surmise Emulator"
   ]
  },
  {
   "cell_type": "code",
   "execution_count": 8,
   "metadata": {},
   "outputs": [],
   "source": [
    "Emulators = {}\n",
    "Surmise_val = {}\n",
    "Surmise_train = {}\n",
    "    \n",
    "for system in ['AuAu200', 'PbPb2760', 'PbPb5020']:\n",
    "    Emulators[system] = emulator(x=pT[system], theta=train_points, f=y_train_results[system].T, method='indGP')\n",
    "\n",
    "    Surmise_val[system] = Emulators[system].predict(x=pT[system], theta=validation_points).mean().T\n",
    "    Surmise_train[system] = Emulators[system].predict(x=pT[system], theta=train_points).mean().T    "
   ]
  },
  {
   "cell_type": "markdown",
   "metadata": {},
   "source": [
    "## Run Scikit-Learn Emulator"
   ]
  },
  {
   "cell_type": "code",
   "execution_count": 9,
   "metadata": {},
   "outputs": [],
   "source": [
    "from sklearn.gaussian_process import GaussianProcessRegressor as GPR\n",
    "from sklearn.gaussian_process import kernels\n",
    "\n",
    "SK_Emulators = {}\n",
    "Scikit_val = {}\n",
    "Scikit_train = {}\n",
    "\n",
    "ptp = np.max(train_points) - np.min(train_points)\n",
    "kernel = (1. * kernels.Matern(length_scale=ptp, length_scale_bounds=np.outer(ptp, (.1, 5))))\n",
    "\n",
    "for system in ['AuAu200', 'PbPb2760', 'PbPb5020']:\n",
    "    combined_train = []\n",
    "    combined_val = []\n",
    "    for train_point in train_points:\n",
    "        combined_train.append(np.concatenate((pT[system], train_point)))\n",
    "    for val_point in validation_points:\n",
    "        combined_val.append(np.concatenate((pT[system], val_point)))\n",
    "    SK_Emulators[system] = GPR(kernel=kernel, alpha=0, n_restarts_optimizer=0).fit(combined_train, y_train_results[system])\n",
    "    Scikit_val[system] = SK_Emulators[system].predict(combined_val)\n",
    "    Scikit_train[system] = SK_Emulators[system].predict(combined_train)"
   ]
  },
  {
   "cell_type": "markdown",
   "metadata": {},
   "source": [
    "## Compare Emulators"
   ]
  },
  {
   "cell_type": "code",
   "execution_count": null,
   "metadata": {
    "tags": [
     "skip"
    ]
   },
   "outputs": [],
   "source": [
    "fig_train, axes_train = plt.subplots(1, 3, figsize=(30, 8), sharey=True) \n",
    "\n",
    "for i, system in enumerate(['AuAu200', 'PbPb2760', 'PbPb5020']):\n",
    "    plots.plot_combined_box_rmse(\n",
    "        axes_train[i],  \n",
    "        y_train_results[system],  \n",
    "        Surmise_train[system], \n",
    "        Smooth_train_mean[system],  \n",
    "        Scikit_train[system],  \n",
    "        label=system, \n",
    "        plot_type=\"Training\" \n",
    "    )\n",
    "axes_train[0].set_ylabel('Training RMSE', fontsize=30)\n",
    "plt.show()"
   ]
  },
  {
   "cell_type": "code",
   "execution_count": null,
   "metadata": {
    "tags": [
     "skip"
    ]
   },
   "outputs": [],
   "source": [
    "fig_val, axes_val = plt.subplots(1, 3, figsize=(30, 8), sharey=True) \n",
    "for i, system in enumerate(['AuAu200', 'PbPb2760', 'PbPb5020']):\n",
    "    plots.plot_combined_box_rmse(\n",
    "            axes_val[i],  \n",
    "            y_val_results[system],  \n",
    "            Surmise_val[system], \n",
    "            Smooth_val_mean[system],  \n",
    "            Scikit_val[system],  \n",
    "            label=system, \n",
    "            plot_type=\"Validation\" \n",
    "        )\n",
    "axes_val[0].set_ylabel('Validation RMSE', fontsize=30)\n",
    "plt.show()"
   ]
  },
  {
   "cell_type": "code",
   "execution_count": null,
   "metadata": {
    "tags": [
     "skip"
    ]
   },
   "outputs": [],
   "source": [
    "if not skip_cell:\n",
    "    rand_seed = np.random.randint(1, 100000, num_seed)\n",
    "    filename = 'run_trainsize.sh'\n",
    "\n",
    "    # Modify the lines containing SEEDS and TRAIN_SIZES\n",
    "    with open(filename, 'r') as file:\n",
    "        lines = file.readlines()\n",
    "\n",
    "    for i, line in enumerate(lines):\n",
    "        if 'SEEDS=(' in line:\n",
    "            lines[i] = f'SEEDS=({\" \".join(map(str, rand_seed))})\\n'\n",
    "        elif 'TRAIN_SIZES=(' in line:\n",
    "            lines[i] = f'TRAIN_SIZES=({\" \".join(map(str, train_range))})\\n'\n",
    "\n",
    "    # Write the modified content back to the .sh file\n",
    "    with open(filename, 'w') as file:\n",
    "        file.writelines(lines)\n",
    "\n",
    "    subprocess.run(['bash', filename], check=True)"
   ]
  },
  {
   "cell_type": "code",
   "execution_count": null,
   "metadata": {},
   "outputs": [],
   "source": [
    "if dmax == False:\n",
    "    filename = 'rmse_results.txt'\n",
    "else:\n",
    "    filename = f'rmse_results_Detmax.txt'\n",
    "\n",
    "header = \"System, Training Points, Seed, Smooth, Surmise, Scikit-learn\\n\"\n",
    "\n",
    "for i, system in enumerate(['AuAu200', 'PbPb2760', 'PbPb5020']):\n",
    "    rmse = {}\n",
    "    smooth_rmse = np.sqrt(np.mean((Smooth_val_mean[system] - y_val_results[system]) ** 2))  \n",
    "    surmise_rmse = np.sqrt(np.mean((Surmise_val[system] - y_val_results[system]) ** 2))  \n",
    "    sckit_rmse = np.sqrt(np.mean((Scikit_val[system] - y_val_results[system]) ** 2))   \n",
    "    rmse['Smooth'] = smooth_rmse\n",
    "    rmse['Surmise'] = surmise_rmse\n",
    "    rmse['Scikit-learn'] = sckit_rmse\n",
    "    entry_exists = False\n",
    "\n",
    "    # Check if the file exists and write the header if it doesn't\n",
    "    if not os.path.exists(filename) or os.path.getsize(filename) == 0:\n",
    "        with open(filename, 'w') as f:  \n",
    "            f.write(header)\n",
    "\n",
    "    # Check if the entry already exists in the file\n",
    "    with open(filename, 'r') as f:\n",
    "        for line in f:\n",
    "            if f\"{system}, {train_size}, {seed}\" in line:\n",
    "                entry_exists = True\n",
    "                break  \n",
    "            \n",
    "    # Write to the file only if the entry doesn't already exist\n",
    "    if not entry_exists and not seed == 0:\n",
    "        with open(filename, 'a') as f: \n",
    "            f.write(f\"{system}, {train_size}, {seed}, {rmse['Smooth']:.5f}, {rmse['Surmise']:.5f}, {rmse['Scikit-learn']:.5f}\\n\")\n",
    "    else:\n",
    "        print(f\"Entry for {system} with {train_size} training points and seed {seed} already exists.\")\n"
   ]
  },
  {
   "cell_type": "code",
   "execution_count": null,
   "metadata": {
    "tags": [
     "skip"
    ]
   },
   "outputs": [],
   "source": [
    "if not skip_cell:    \n",
    "    # Initialize the result dictionaries\n",
    "    results_by_system = {}\n",
    "    dm_results_by_system = {}\n",
    "\n",
    "    # Function to process a file and store RMSE results\n",
    "    def process_file(filename, results_dict):\n",
    "        with open(filename, 'r') as f:\n",
    "            next(f)  # Skip header\n",
    "            for line in f:\n",
    "                parts = line.strip().split(', ')\n",
    "                system_info, training_points, seed = parts[0], int(parts[1]), int(parts[2])\n",
    "                if training_points > 100:\n",
    "                    continue\n",
    "                rmse_values = {\n",
    "                    'Smooth': float(parts[3]),\n",
    "                    'Surmise': float(parts[4]),\n",
    "                    'Scikit-learn': float(parts[5])\n",
    "                }\n",
    "                results_dict.setdefault(system_info, {}).setdefault(training_points, {'Smooth': [], 'Surmise': [], 'Scikit-learn': []})\n",
    "                for key, value in rmse_values.items():\n",
    "                    results_dict[system_info][training_points][key].append(value)\n",
    "\n",
    "    # Process both RMSE files\n",
    "    process_file('rmse_results.txt', results_by_system)\n",
    "    process_file('rmse_results_Detmax.txt', dm_results_by_system)\n",
    "\n",
    "    # Function to calculate mean and std RMSE values across all seeds\n",
    "    def calculate_stats(results_dict):\n",
    "        mean_results = {}\n",
    "        std_results = {}\n",
    "        for system, training_data in results_dict.items():\n",
    "            mean_results[system] = {}\n",
    "            std_results[system] = {}\n",
    "            for training_points, rmse_data in training_data.items():\n",
    "                mean_results[system][training_points] = {k: np.mean(v) for k, v in rmse_data.items()}\n",
    "                std_results[system][training_points] = {k: np.std(v) for k, v in rmse_data.items()}\n",
    "        return mean_results, std_results\n",
    "\n",
    "    # Calculate mean and std for both sets of results\n",
    "    mean_results_by_system, std_results_by_system = calculate_stats(results_by_system)\n",
    "    dm_mean_results_by_system, dm_std_results_by_system = calculate_stats(dm_results_by_system)\n",
    "\n",
    "    # Define linestyles, markers, and colors\n",
    "    colors = {'Surmise': 'black', 'Smooth': 'red', 'Scikit-learn': 'blue'}\n",
    "\n",
    "    # Create figure and axes\n",
    "    fig, axs = plt.subplots(1, 3, figsize=(18, 6), sharey=True)\n",
    "\n",
    "    # Collect handles and labels for the legend\n",
    "    handles, labels = [], []\n",
    "\n",
    "    # Iterate over the systems to plot the data\n",
    "    for i, system in enumerate(mean_results_by_system.keys()):\n",
    "        ax = axs[i]\n",
    "        data = mean_results_by_system[system]\n",
    "        dm_data = dm_mean_results_by_system[system]\n",
    "        training_points = sorted(data.keys())\n",
    "\n",
    "        # Plot for each method (Surmise, Smooth, Scikit-learn)\n",
    "        for method in ['Surmise', 'Smooth', 'Scikit-learn']:\n",
    "\n",
    "            means = [data[tp][method] for tp in training_points]\n",
    "            stds = [std_results_by_system[system][tp][method] for tp in training_points]\n",
    "\n",
    "            dm_means = [dm_data[tp][method] for tp in training_points]\n",
    "            dm_stds = [dm_std_results_by_system[system][tp][method] for tp in training_points]\n",
    "\n",
    "            label1 = f'{method} with DETMAX'\n",
    "            label2 = method\n",
    "\n",
    "            # Plot DETMAX results\n",
    "            line1, = ax.plot(training_points, dm_means, label=label1, color=colors[method], marker='o', linestyle='--', linewidth=2)\n",
    "            ax.fill_between(training_points, np.array(dm_means) - np.array(dm_stds), np.array(dm_means) + np.array(dm_stds), color=colors[method], alpha=0.2)\n",
    "\n",
    "            # Plot regular results\n",
    "            line2, = ax.plot(training_points, means, label=label2, color=colors[method], marker='o', linestyle='-', linewidth=2)\n",
    "            ax.fill_between(training_points, np.array(means) - np.array(stds), np.array(means) + np.array(stds), color=colors[method], alpha=0.2)\n",
    "\n",
    "            if i == 0:\n",
    "                handles.extend([line1, line2])\n",
    "                labels.extend([label1, label2])\n",
    "\n",
    "        ax.set_title(system, fontsize=20)\n",
    "        ax.yaxis.set_tick_params(labelsize=20)\n",
    "        ax.xaxis.set_tick_params(labelsize=20)\n",
    "        if i == 0:\n",
    "            ax.set_ylabel('Mean RMSE', fontsize=24)\n",
    "        elif i == 1:\n",
    "            ax.set_xlabel('# of Training Points', fontsize=24)\n",
    "\n",
    "    # Create a single figure-level legend\n",
    "    fig.legend(handles, labels, fontsize=14, loc='upper right', bbox_to_anchor=(.30, .85))\n",
    "    plt.tight_layout(rect=[0, 0, 0.9, 0.95])\n"
   ]
  }
 ],
 "metadata": {
  "kernelspec": {
   "display_name": ".venv",
   "language": "python",
   "name": "python3"
  },
  "language_info": {
   "codemirror_mode": {
    "name": "ipython",
    "version": 3
   },
   "file_extension": ".py",
   "mimetype": "text/x-python",
   "name": "python",
   "nbconvert_exporter": "python",
   "pygments_lexer": "ipython3",
   "version": "3.12.6"
  }
 },
 "nbformat": 4,
 "nbformat_minor": 4
}
